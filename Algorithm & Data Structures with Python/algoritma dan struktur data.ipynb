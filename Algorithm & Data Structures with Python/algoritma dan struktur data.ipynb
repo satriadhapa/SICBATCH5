{
 "cells": [
  {
   "cell_type": "code",
   "execution_count": 1,
   "metadata": {},
   "outputs": [
    {
     "name": "stdout",
     "output_type": "stream",
     "text": [
      "Nomor 20 tidak ditemukan dalam list S.\n"
     ]
    }
   ],
   "source": [
    "def bin_search(arr, x):\n",
    "    low = 0\n",
    "    high = len(arr) - 1\n",
    "\n",
    "    while low <= high:\n",
    "        mid = (low + high) // 2\n",
    "        if arr[mid] == x:\n",
    "            return mid\n",
    "        elif arr[mid] < x:\n",
    "            low = mid + 1\n",
    "        else:\n",
    "            high = mid - 1\n",
    "\n",
    "    return -1\n",
    "\n",
    "S = [11, 17, 26, 28, 37, 45, 53, 59]\n",
    "x = int(input(\"Masukan nomor yang ingin dicari: \"))\n",
    "\n",
    "pos = bin_search(S, x)\n",
    "if pos != -1:\n",
    "    print(f\"Posisi bilangan {x} didalam list S adalah posisi nomor {pos}\")\n",
    "else:\n",
    "    print(f\"Nomor {x} tidak ditemukan dalam list S.\")\n"
   ]
  },
  {
   "cell_type": "markdown",
   "metadata": {},
   "source": [
    "Binary Search - Python Implementation\n",
    "Untuk mengimplementasikan binary search yang telah kita pelajari sebelumnya dalam Python, perhatikan kode di bawah ini:"
   ]
  },
  {
   "cell_type": "code",
   "execution_count": 2,
   "metadata": {},
   "outputs": [],
   "source": [
    "def bin_search(nums,x):\n",
    "  low, high = 0, len(nums) - 1 # menginisialisasikan titik low dan high \n",
    "  while low <= high:\n",
    "    mid = (low + high) // 2 # mendeklarasikan titik mid\n",
    "    if nums[mid] == x:\n",
    "      return mid\n",
    "    elif nums[mid] > x:\n",
    "      high = mid -1\n",
    "    else:\n",
    "      low = mid + 1\n",
    "  \n",
    "  return -1"
   ]
  },
  {
   "cell_type": "markdown",
   "metadata": {},
   "source": [
    "Titik low dan high diinisialisasi sebagai elemen pertama dan terakhir dari nums, sehigga pada awal proses binary search, search space-nya adalah seluruh elemen dari nums atau 0 hingga len(nums) - 1.\n",
    "\n",
    "Nilai mid dihitung sebagai (low + high) // 2. Di sini, operator // mengembalikan hasil bagi dari proses pembagian.\n",
    "\n",
    "Jika nilai nums[mid] sama dengan x, pencarian sukses dan akan dikembalikan nilai dari mid.\n",
    "Jika nilai nums[mid] lebih besar dari x, ubah titik high menjadi mid-1, dan jika lebih kecil dari x, ubah titik low menjadi mid+1.\n",
    "Jika nilai low atau high berubah menjadi mid + 1 atau mid – 1, maka search space akan terbagi dua.\n",
    "Jika nilai low lebih besar dari nilai high, maka while statement akan berhenti. Jika demikian, kembalikan -1 karena nilai x tidak ada di dalam list nums."
   ]
  },
  {
   "cell_type": "code",
   "execution_count": 3,
   "metadata": {},
   "outputs": [
    {
     "name": "stdout",
     "output_type": "stream",
     "text": [
      "Posisi bilangan 37 didalam list S adalah posisi nomor 4\n"
     ]
    }
   ],
   "source": [
    "S = [11,17,26,28,37,45,53,59]\n",
    "x = int(input(\"Masukan nomor yang ingin dicari: \"))\n",
    "\n",
    "pos = bin_search(S,x) # fungsi untuk binary search\n",
    "print(f\"Posisi bilangan {x} didalam list S adalah posisi nomor {pos}\")"
   ]
  },
  {
   "cell_type": "markdown",
   "metadata": {},
   "source": [
    "Sequential Search - Definition\n",
    "Sequential search adalah sebuah algoritma yang melakukan pencarian dengan memeriksa semua item satu per satu secara berurutan. Sequential search dilakukan untuk data yang diberikan secara acak. Jadi, karena pencarian dilakukan tanpa aturan, ini juga disebut finding a needle in a haystack atau mencari jarum dalam tumpukan jerami."
   ]
  },
  {
   "cell_type": "code",
   "execution_count": 4,
   "metadata": {},
   "outputs": [],
   "source": [
    "def seq_search(nums,x):\n",
    "  for i in range(len(nums)): # mencari di seluruh elemen nums\n",
    "    if x == nums[i]:\n",
    "      return i # mengembalikan index elemen yang cocok dengan x\n",
    "  \n",
    "  return -1 # ketika tidak ditemukan elemen yang cocok dengan x dalam nums"
   ]
  },
  {
   "cell_type": "code",
   "execution_count": 5,
   "metadata": {},
   "outputs": [
    {
     "name": "stdout",
     "output_type": "stream",
     "text": [
      "Posisi bilangan 53 didalam list S adalah posisi nomor 7\n"
     ]
    }
   ],
   "source": [
    "def seq_search(nums,x):\n",
    "  for i in range(len(nums)): # mencari di seluruh elemen nums\n",
    "    if x == nums[i]:\n",
    "      return i # mengembalikan index elemen yang cocok dengan x\n",
    "  \n",
    "  return -1 # ketika tidak ditemukan elemen yang cocok dengan x dalam nums\n",
    "S = [11,37,45,26,59,28,17,53]\n",
    "x = 53\n",
    "pos = seq_search(S,x) # fungsi untuk sequential search\n",
    "print(f\"Posisi bilangan {x} didalam list S adalah posisi nomor {pos}\")"
   ]
  },
  {
   "cell_type": "code",
   "execution_count": 6,
   "metadata": {},
   "outputs": [
    {
     "name": "stdout",
     "output_type": "stream",
     "text": [
      "Posisi bilangan 99 didalam list S adalah posisi nomor -1\n"
     ]
    }
   ],
   "source": [
    "def seq_search(nums,x):\n",
    "  for i in range(len(nums)): # mencari di seluruh elemen nums\n",
    "    if x == nums[i]:\n",
    "      return i # mengembalikan index elemen yang cocok dengan x\n",
    "  \n",
    "  return -1 # ketika tidak ditemukan elemen yang cocok dengan x dalam nums\n",
    "  \n",
    "S = [11,37,45,26,59,28,17,53]\n",
    "x = 99\n",
    "pos = seq_search(S,x) # fungsi untuk sequential search\n",
    "print(f\"Posisi bilangan {x} didalam list S adalah posisi nomor {pos}\")"
   ]
  },
  {
   "cell_type": "code",
   "execution_count": 7,
   "metadata": {},
   "outputs": [
    {
     "name": "stdout",
     "output_type": "stream",
     "text": [
      "Array sebelum sorting: [12, 11, 13, 5, 6]\n",
      "Array setelah sorting: [5, 6, 11, 12, 13]\n"
     ]
    }
   ],
   "source": [
    "def insertion_sort(arr):\n",
    "    for i in range(1, len(arr)):\n",
    "        key = arr[i]\n",
    "        j = i - 1\n",
    "        while j >= 0 and key < arr[j]:\n",
    "            arr[j + 1] = arr[j]\n",
    "            j -= 1\n",
    "        arr[j + 1] = key\n",
    "\n",
    "# Contoh penggunaan:\n",
    "arr = [12, 11, 13, 5, 6]\n",
    "print(\"Array sebelum sorting:\", arr)\n",
    "insertion_sort(arr)\n",
    "print(\"Array setelah sorting:\", arr)"
   ]
  },
  {
   "cell_type": "code",
   "execution_count": 8,
   "metadata": {},
   "outputs": [
    {
     "name": "stdout",
     "output_type": "stream",
     "text": [
      "Bubble Sort: [11, 12, 22, 25, 34, 64, 90]\n"
     ]
    }
   ],
   "source": [
    "def bubble_sort(arr):\n",
    "    n = len(arr)\n",
    "    for i in range(n):\n",
    "        for j in range(0, n-i-1):\n",
    "            if arr[j] > arr[j+1]:\n",
    "                arr[j], arr[j+1] = arr[j+1], arr[j]\n",
    "\n",
    "# Contoh penggunaan:\n",
    "arr = [64, 34, 25, 12, 22, 11, 90]\n",
    "bubble_sort(arr)\n",
    "print(\"Bubble Sort:\", arr)"
   ]
  },
  {
   "cell_type": "code",
   "execution_count": 9,
   "metadata": {},
   "outputs": [
    {
     "name": "stdout",
     "output_type": "stream",
     "text": [
      "Selection Sort: [11, 12, 22, 25, 64]\n"
     ]
    }
   ],
   "source": [
    "def selection_sort(arr):\n",
    "    n = len(arr)\n",
    "    for i in range(n):\n",
    "        min_idx = i\n",
    "        for j in range(i+1, n):\n",
    "            if arr[j] < arr[min_idx]:\n",
    "                min_idx = j\n",
    "        arr[i], arr[min_idx] = arr[min_idx], arr[i]\n",
    "\n",
    "# Contoh penggunaan:\n",
    "arr = [64, 25, 12, 22, 11]\n",
    "selection_sort(arr)\n",
    "print(\"Selection Sort:\", arr)"
   ]
  },
  {
   "cell_type": "code",
   "execution_count": 10,
   "metadata": {},
   "outputs": [
    {
     "name": "stdout",
     "output_type": "stream",
     "text": [
      "Insertion Sort: [5, 6, 11, 12, 13]\n"
     ]
    }
   ],
   "source": [
    "def insertion_sort(arr):\n",
    "    for i in range(1, len(arr)):\n",
    "        key = arr[i]\n",
    "        j = i - 1\n",
    "        while j >= 0 and key < arr[j]:\n",
    "            arr[j + 1] = arr[j]\n",
    "            j -= 1\n",
    "        arr[j + 1] = key\n",
    "\n",
    "# Contoh penggunaan:\n",
    "arr = [12, 11, 13, 5, 6]\n",
    "insertion_sort(arr)\n",
    "print(\"Insertion Sort:\", arr)"
   ]
  },
  {
   "cell_type": "code",
   "execution_count": 11,
   "metadata": {},
   "outputs": [
    {
     "name": "stdout",
     "output_type": "stream",
     "text": [
      "Merge Sort: [5, 6, 7, 11, 12, 13]\n"
     ]
    }
   ],
   "source": [
    "def merge_sort(arr):\n",
    "    if len(arr) > 1:\n",
    "        mid = len(arr) // 2\n",
    "        L = arr[:mid]\n",
    "        R = arr[mid:]\n",
    "\n",
    "        merge_sort(L)\n",
    "        merge_sort(R)\n",
    "\n",
    "        i = j = k = 0\n",
    "\n",
    "        while i < len(L) and j < len(R):\n",
    "            if L[i] < R[j]:\n",
    "                arr[k] = L[i]\n",
    "                i += 1\n",
    "            else:\n",
    "                arr[k] = R[j]\n",
    "                j += 1\n",
    "            k += 1\n",
    "\n",
    "        while i < len(L):\n",
    "            arr[k] = L[i]\n",
    "            i += 1\n",
    "            k += 1\n",
    "\n",
    "        while j < len(R):\n",
    "            arr[k] = R[j]\n",
    "            j += 1\n",
    "            k += 1\n",
    "\n",
    "# Contoh penggunaan:\n",
    "arr = [12, 11, 13, 5, 6, 7]\n",
    "merge_sort(arr)\n",
    "print(\"Merge Sort:\", arr)\n"
   ]
  },
  {
   "cell_type": "code",
   "execution_count": 12,
   "metadata": {},
   "outputs": [
    {
     "name": "stdout",
     "output_type": "stream",
     "text": [
      "Quick Sort: [1, 2, 3, 4, 5]\n"
     ]
    }
   ],
   "source": [
    "def quick_sort(arr):\n",
    "    if len(arr) <= 1:\n",
    "        return arr\n",
    "    pivot = arr[len(arr) // 2]\n",
    "    left = [x for x in arr if x < pivot]\n",
    "    middle = [x for x in arr if x == pivot]\n",
    "    right = [x for x in arr if x > pivot]\n",
    "    return quick_sort(left) + middle + quick_sort(right)\n",
    "\n",
    "# Contoh penggunaan:\n",
    "arr = [5, 3, 2, 4, 1]\n",
    "arr_sorted = quick_sort(arr)\n",
    "print(\"Quick Sort:\", arr_sorted)\n"
   ]
  },
  {
   "cell_type": "code",
   "execution_count": 13,
   "metadata": {},
   "outputs": [
    {
     "name": "stdout",
     "output_type": "stream",
     "text": [
      "Sebelum di sortir [50, 30, 40, 10, 20]\n",
      "[50, 30, 40, 10, 20]\n",
      "[30, 40, 10, 20, 50]\n",
      "[30, 10, 20, 40, 50]\n",
      "[10, 20, 30, 40, 50]\n",
      "[10, 20, 30, 40, 50]\n",
      "Setelah di sortir [10, 20, 30, 40, 50]\n"
     ]
    }
   ],
   "source": [
    "def bubblesort(S):\n",
    "  n = len(S)\n",
    "  for i in range(n):\n",
    "    print(S) # untuk mengetahui proses yang terjadi\n",
    "    for j in range(n - 1):\n",
    "      if S[j] > S[j + 1]:\n",
    "        S[j], S[j + 1] = S[j + 1], S[j]\n",
    "        \n",
    "S = [50,30,40,10,20]\n",
    "print(\"Sebelum di sortir\", S)\n",
    "bubblesort(S)\n",
    "print(\"Setelah di sortir\", S)"
   ]
  },
  {
   "cell_type": "code",
   "execution_count": 14,
   "metadata": {},
   "outputs": [
    {
     "name": "stdout",
     "output_type": "stream",
     "text": [
      "['Y']\n"
     ]
    }
   ],
   "source": [
    "class Stack:\n",
    "  def __init__(self):\n",
    "    self.stack = []\n",
    "  \n",
    "  def is_empty(self): \n",
    "    return True if len(self.stack) == 0 else False\n",
    "  \n",
    "  def push(self,item):\n",
    "    self.stack.append(item)\n",
    "  \n",
    "  def get_stack(self): \n",
    "    return self.stack\n",
    "  \n",
    "  def pop(self):\n",
    "    return None if self.is_empty() else self.stack.pop()\n",
    "\n",
    "stack = Stack()\n",
    "stack.push(\"X\")\n",
    "stack.pop()\n",
    "stack.push(\"Y\")\n",
    "\n",
    "print(stack.get_stack())"
   ]
  },
  {
   "cell_type": "code",
   "execution_count": 15,
   "metadata": {},
   "outputs": [
    {
     "name": "stdout",
     "output_type": "stream",
     "text": [
      "['Y', 'Z']\n"
     ]
    }
   ],
   "source": [
    "class Queue:\n",
    "  \n",
    "  def __init__(self):\n",
    "    self.queue = []\n",
    "  \n",
    "  def is_empty(self):\n",
    "    return True if len(self.queue) == 0 else False\n",
    "  \n",
    "  def get_queue(self):\n",
    "    return self.queue\n",
    "    \n",
    "  def enqueue(self,item):\n",
    "    self.queue.append(item)\n",
    "  \n",
    "  def dequeue(self):\n",
    "    return None if self.is_empty() else self.queue.pop(0)\n",
    "\n",
    "queue = Queue() \n",
    "queue.enqueue(\"X\")\n",
    "queue.enqueue(\"Y\")\n",
    "queue.dequeue()\n",
    "queue.enqueue(\"Z\")\n",
    "\n",
    "print(queue.get_queue())"
   ]
  },
  {
   "cell_type": "code",
   "execution_count": 16,
   "metadata": {},
   "outputs": [
    {
     "name": "stdout",
     "output_type": "stream",
     "text": [
      "[]\n",
      "['A', 'B']\n",
      "A\n",
      "['B']\n",
      "B\n",
      "[]\n",
      "None\n"
     ]
    }
   ],
   "source": [
    "class Queue:\n",
    "  \n",
    "  def __init__(self):\n",
    "    self.queue = []\n",
    "  \n",
    "  def is_empty(self):\n",
    "    return True if len(self.queue) == 0 else False\n",
    "  \n",
    "  def get_queue(self):\n",
    "    return self.queue\n",
    "    \n",
    "  def enqueue(self,item):\n",
    "    self.queue.append(item)\n",
    "  \n",
    "  def dequeue(self):\n",
    "    return None if self.is_empty() else self.queue.pop(0)\n",
    "    \n",
    "queue = Queue() # menginisiasi instance queue\n",
    "print(queue.get_queue())\n",
    "queue.enqueue(\"A\")\n",
    "queue.enqueue(\"B\")\n",
    "print(queue.get_queue())\n",
    "print(queue.dequeue())\n",
    "print(queue.get_queue())\n",
    "print(queue.dequeue())\n",
    "print(queue.get_queue())\n",
    "print(queue.dequeue()) # harusnya menampilkan error karena queue sudah kosong"
   ]
  },
  {
   "cell_type": "markdown",
   "metadata": {},
   "source": [
    "Hash table atau hash map mengacu pada tipe data abstrak yang menyimpan dan mengekstrak data dengan memetakan sebuah key terhadap sebuah value melalui hashing. Hashing adalah penunjukan lokasi untuk menyimpan data atau menemukan data yang disimpan berdasarkan nilai data. Hash function menentukan kunci dengan menggunakan nilai data.\n",
    "\n",
    "Dalam hash table, terdapat 3 istilah yang perlu kita pahami yaitu put, get dan hash:\n",
    "\n",
    "put(key, value) : Menyimpan nilai ke bucket yang ditentukan oleh key hash value\n",
    "get(key) : Mengekstrak nilai yang disimpan dalam bucket yang ditentukan oleh key hash value\n",
    "hash(key) : Mengonversi key value data menjadi hash value dalam range tertentu"
   ]
  },
  {
   "cell_type": "code",
   "execution_count": 17,
   "metadata": {},
   "outputs": [],
   "source": [
    "class HashTable:\n",
    "  def __init__(self,size):\n",
    "    self.size = size\n",
    "    self.table = {}\n",
    "    for i in range(size):\n",
    "      self.table[i] = []\n",
    "  \n",
    "  def hash(self,key):\n",
    "    return key % self.size\n",
    "  \n",
    "  def get(self,key):\n",
    "    return self.table[self.hash(key)]\n",
    "  \n",
    "  def put(self,key,value):\n",
    "    bucket = self.table[self.hash(key)]\n",
    "    if value not in bucket:\n",
    "      bucket.append(value)"
   ]
  },
  {
   "cell_type": "code",
   "execution_count": 18,
   "metadata": {},
   "outputs": [
    {
     "name": "stdout",
     "output_type": "stream",
     "text": [
      "0 ['The Little Prince']\n",
      "1 ['The Old Man and the Sea']\n",
      "2 []\n",
      "3 []\n",
      "4 []\n",
      "5 ['Beauty and the Beast', 'The Last Leaf']\n",
      "6 ['The Little Mermaid']\n",
      "7 []\n"
     ]
    }
   ],
   "source": [
    "class HashTable:\n",
    "  def __init__(self,size):\n",
    "    self.size = size\n",
    "    self.table = {}\n",
    "    for i in range(size):\n",
    "      self.table[i] = []\n",
    "  \n",
    "  def hash(self,key):\n",
    "    return key % self.size\n",
    "  \n",
    "  def get(self,key):\n",
    "    return self.table[self.hash(key)]\n",
    "  \n",
    "  def put(self,key,value):\n",
    "    bucket = self.table[self.hash(key)]\n",
    "    if value not in bucket:\n",
    "      bucket.append(value)\n",
    "      \n",
    "table = HashTable(8) # inisialisasi instance table dengan size 8 \n",
    "books = [\n",
    "  \"The Little Prince\",\n",
    "  \"The Old Man and the Sea\",\n",
    "  \"The Little Mermaid\",\n",
    "  \"Beauty and the Beast\",\n",
    "  \"The Last Leaf\",\n",
    "]\n",
    "for book in books: # iterasi semua buku\n",
    "  key = sum(map(ord,book))\n",
    "  table.put(key,book)\n",
    "\n",
    "for key in table.table.keys():\n",
    "  print(key, table.table[key])\n",
    "  "
   ]
  },
  {
   "cell_type": "code",
   "execution_count": 19,
   "metadata": {},
   "outputs": [
    {
     "name": "stdout",
     "output_type": "stream",
     "text": [
      "1929 ['The Old Man and the Sea']\n"
     ]
    }
   ],
   "source": [
    "class HashTable:\n",
    "  def __init__(self,size):\n",
    "    self.size = size\n",
    "    self.table = {}\n",
    "    for i in range(size):\n",
    "      self.table[i] = []\n",
    "  \n",
    "  def hash(self,key):\n",
    "    return key % self.size\n",
    "  \n",
    "  def get(self,key):\n",
    "    return self.table[self.hash(key)]\n",
    "  \n",
    "  def put(self,key,value):\n",
    "    bucket = self.table[self.hash(key)]\n",
    "    if value not in bucket:\n",
    "      bucket.append(value)\n",
    "      \n",
    "table = HashTable(8) \n",
    "books = [\n",
    "  \"The Little Prince\",\n",
    "  \"The Old Man and the Sea\",\n",
    "  \"The Little Mermaid\",\n",
    "  \"Beauty and the Beast\",\n",
    "  \"The Last Leaf\",\n",
    "]\n",
    "for book in books: \n",
    "  key = sum(map(ord,book))\n",
    "  table.put(key,book)\n",
    "\n",
    "judul = 'The Old Man and the Sea'\n",
    "key = sum(map(ord,judul))\n",
    "bucket = table.get(key)\n",
    "print(key,bucket)"
   ]
  },
  {
   "cell_type": "code",
   "execution_count": null,
   "metadata": {},
   "outputs": [],
   "source": []
  }
 ],
 "metadata": {
  "kernelspec": {
   "display_name": "Python 3",
   "language": "python",
   "name": "python3"
  },
  "language_info": {
   "codemirror_mode": {
    "name": "ipython",
    "version": 3
   },
   "file_extension": ".py",
   "mimetype": "text/x-python",
   "name": "python",
   "nbconvert_exporter": "python",
   "pygments_lexer": "ipython3",
   "version": "3.11.4"
  }
 },
 "nbformat": 4,
 "nbformat_minor": 2
}
