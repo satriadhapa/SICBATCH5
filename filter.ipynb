{
 "cells": [
  {
   "cell_type": "code",
   "execution_count": 1,
   "metadata": {},
   "outputs": [
    {
     "name": "stdout",
     "output_type": "stream",
     "text": [
      "Genap: [2, 4, 4, 6]\n",
      "Ganjil: [1, 3, 5, 7]\n"
     ]
    }
   ],
   "source": [
    "def filter_numbers(numbers):\n",
    "    even_numbers = []\n",
    "    odd_numbers = []\n",
    "\n",
    "    for num in numbers:\n",
    "        if num % 2 == 0:\n",
    "            even_numbers.append(num)\n",
    "        else:\n",
    "            odd_numbers.append(num)\n",
    "\n",
    "    return even_numbers, odd_numbers\n",
    "\n",
    "# Input list\n",
    "numbers = [1, 2, 3, 4, 4, 5, 6, 7]\n",
    "\n",
    "# Memanggil fungsi filter_numbers\n",
    "even, odd = filter_numbers(numbers)\n",
    "\n",
    "# Menampilkan hasil\n",
    "print(\"Genap:\", even)\n",
    "print(\"Ganjil:\", odd)"
   ]
  },
  {
   "cell_type": "code",
   "execution_count": null,
   "metadata": {},
   "outputs": [],
   "source": []
  }
 ],
 "metadata": {
  "kernelspec": {
   "display_name": "Python 3",
   "language": "python",
   "name": "python3"
  },
  "language_info": {
   "codemirror_mode": {
    "name": "ipython",
    "version": 3
   },
   "file_extension": ".py",
   "mimetype": "text/x-python",
   "name": "python",
   "nbconvert_exporter": "python",
   "pygments_lexer": "ipython3",
   "version": "3.11.4"
  }
 },
 "nbformat": 4,
 "nbformat_minor": 2
}
