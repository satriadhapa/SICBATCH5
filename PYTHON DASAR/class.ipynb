{
 "cells": [
  {
   "cell_type": "code",
   "execution_count": 1,
   "metadata": {},
   "outputs": [
    {
     "name": "stdout",
     "output_type": "stream",
     "text": [
      "Nama: Joshua\n",
      "Umur: 25\n",
      "\n",
      "Setelah diubah:\n",
      "Nama: Phartogi\n",
      "Umur: 28\n"
     ]
    }
   ],
   "source": [
    "class Orang:\n",
    "    def __init__(self, nama, jenis_kelamin, umur):\n",
    "        self.nama = nama\n",
    "        self.jenis_kelamin = jenis_kelamin\n",
    "        self.umur = umur\n",
    "\n",
    "    def ganti_nama(self, nama_baru):\n",
    "        self.nama = nama_baru\n",
    "\n",
    "    def tambah_umur(self, tambahan_umur):\n",
    "        self.umur += tambahan_umur\n",
    "\n",
    "# Contoh penggunaan\n",
    "Joshua = Orang(\"Joshua\", \"Laki-Laki\", 25)\n",
    "print(\"Nama:\", Joshua.nama)\n",
    "print(\"Umur:\", Joshua.umur)\n",
    "\n",
    "Joshua.ganti_nama(\"Phartogi\")\n",
    "Joshua.tambah_umur(3)\n",
    "\n",
    "print(\"\\nSetelah diubah:\")\n",
    "print(\"Nama:\", Joshua.nama)\n",
    "print(\"Umur:\", Joshua.umur)\n"
   ]
  },
  {
   "cell_type": "code",
   "execution_count": null,
   "metadata": {},
   "outputs": [],
   "source": []
  }
 ],
 "metadata": {
  "kernelspec": {
   "display_name": "Python 3",
   "language": "python",
   "name": "python3"
  },
  "language_info": {
   "codemirror_mode": {
    "name": "ipython",
    "version": 3
   },
   "file_extension": ".py",
   "mimetype": "text/x-python",
   "name": "python",
   "nbconvert_exporter": "python",
   "pygments_lexer": "ipython3",
   "version": "3.11.4"
  }
 },
 "nbformat": 4,
 "nbformat_minor": 2
}
