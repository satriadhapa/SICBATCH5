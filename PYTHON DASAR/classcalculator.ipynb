{
 "cells": [
  {
   "cell_type": "code",
   "execution_count": 1,
   "metadata": {},
   "outputs": [
    {
     "name": "stdout",
     "output_type": "stream",
     "text": [
      "Penjumlahan: 9\n",
      "Pengurangan: -1\n",
      "Perkalian: 20\n",
      "Pembagian: 0.8\n"
     ]
    }
   ],
   "source": [
    "class Calculator:\n",
    "    def __init__(self, num1, num2):\n",
    "        self.num1 = num1\n",
    "        self.num2 = num2\n",
    "\n",
    "    def addition(self):\n",
    "        return self.num1 + self.num2\n",
    "\n",
    "    def subtraction(self):\n",
    "        return self.num1 - self.num2\n",
    "\n",
    "    def multiplication(self):\n",
    "        return self.num1 * self.num2\n",
    "\n",
    "    def division(self):\n",
    "        if self.num2 != 0:\n",
    "            return self.num1 / self.num2\n",
    "        else:\n",
    "            return \"Error: Tidak dapat membagi oleh nol.\"\n",
    "\n",
    "# Contoh penggunaan\n",
    "C_object = Calculator(4, 5)\n",
    "print(\"Penjumlahan:\", C_object.addition())  # Output: 9\n",
    "print(\"Pengurangan:\", C_object.subtraction())  # Output: -1\n",
    "print(\"Perkalian:\", C_object.multiplication())  # Output: 20\n",
    "print(\"Pembagian:\", C_object.division())  # Output: 0.8\n"
   ]
  },
  {
   "cell_type": "code",
   "execution_count": null,
   "metadata": {},
   "outputs": [],
   "source": []
  }
 ],
 "metadata": {
  "kernelspec": {
   "display_name": "Python 3",
   "language": "python",
   "name": "python3"
  },
  "language_info": {
   "codemirror_mode": {
    "name": "ipython",
    "version": 3
   },
   "file_extension": ".py",
   "mimetype": "text/x-python",
   "name": "python",
   "nbconvert_exporter": "python",
   "pygments_lexer": "ipython3",
   "version": "3.11.4"
  }
 },
 "nbformat": 4,
 "nbformat_minor": 2
}
