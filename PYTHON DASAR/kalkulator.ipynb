{
 "cells": [
  {
   "cell_type": "code",
   "execution_count": 1,
   "metadata": {},
   "outputs": [
    {
     "name": "stdout",
     "output_type": "stream",
     "text": [
      "Hasil perhitungan: 30.0\n"
     ]
    }
   ],
   "source": [
    "def calculator(operation, num1, num2):\n",
    "    if operation == \"+\":\n",
    "        return num1 + num2\n",
    "    elif operation == \"-\":\n",
    "        return num1 - num2\n",
    "    elif operation == \"*\":\n",
    "        return num1 * num2\n",
    "    elif operation == \"/\":\n",
    "        if num2 != 0:\n",
    "            return num1 / num2\n",
    "        else:\n",
    "            return \"Tidak dapat membagi oleh nol.\"\n",
    "    else:\n",
    "        return \"Operasi tidak valid.\"\n",
    "\n",
    "# Input dari pengguna\n",
    "operation = input(\"Masukkan operasi (+, -, *, /): \")\n",
    "num1 = float(input(\"Masukkan angka pertama: \"))\n",
    "num2 = float(input(\"Masukkan angka kedua: \"))\n",
    "\n",
    "# Memanggil fungsi calculator dengan input pengguna\n",
    "result = calculator(operation, num1, num2)\n",
    "\n",
    "# Menampilkan hasil perhitungan\n",
    "print(\"Hasil perhitungan:\", result)"
   ]
  },
  {
   "cell_type": "code",
   "execution_count": null,
   "metadata": {},
   "outputs": [],
   "source": []
  }
 ],
 "metadata": {
  "kernelspec": {
   "display_name": "Python 3",
   "language": "python",
   "name": "python3"
  },
  "language_info": {
   "codemirror_mode": {
    "name": "ipython",
    "version": 3
   },
   "file_extension": ".py",
   "mimetype": "text/x-python",
   "name": "python",
   "nbconvert_exporter": "python",
   "pygments_lexer": "ipython3",
   "version": "3.11.4"
  }
 },
 "nbformat": 4,
 "nbformat_minor": 2
}
