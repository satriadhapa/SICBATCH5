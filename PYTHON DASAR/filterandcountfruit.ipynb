{
 "cells": [
  {
   "cell_type": "code",
   "execution_count": 1,
   "metadata": {},
   "outputs": [
    {
     "name": "stdout",
     "output_type": "stream",
     "text": [
      "Buah-buahan dengan rasa asam : [{'nama': 'lemon', 'rasa': 'asam'}, {'nama': 'strawberry', 'rasa': 'asam'}]\n",
      "Jumlah buah-buahan dengan rasa asam : 2\n"
     ]
    }
   ],
   "source": [
    "def filter_and_count_fruits(fruits, target_rasa):\n",
    "    filtered_fruits = [fruit for fruit in fruits if fruit[\"rasa\"] == target_rasa]\n",
    "    count = len(filtered_fruits)\n",
    "    return filtered_fruits, count\n",
    "\n",
    "# Input list buah-buahan\n",
    "fruits = [\n",
    "    {\"nama\": \"apple\", \"rasa\": \"manis\"},\n",
    "    {\"nama\": \"jambu\", \"rasa\": \"manis\"},\n",
    "    {\"nama\": \"lemon\", \"rasa\": \"asam\"},\n",
    "    {\"nama\": \"strawberry\", \"rasa\": \"asam\"},\n",
    "    {\"nama\": \"durian\", \"rasa\": \"pahit\"}\n",
    "]\n",
    "\n",
    "# Memfilter dan menghitung buah-buahan dengan rasa tertentu\n",
    "target_rasa = \"asam\"\n",
    "filtered_fruits, count = filter_and_count_fruits(fruits, target_rasa)\n",
    "\n",
    "# Menampilkan hasil\n",
    "print(\"Buah-buahan dengan rasa\", target_rasa, \":\", filtered_fruits)\n",
    "print(\"Jumlah buah-buahan dengan rasa\", target_rasa, \":\", count)"
   ]
  },
  {
   "cell_type": "code",
   "execution_count": null,
   "metadata": {},
   "outputs": [],
   "source": []
  }
 ],
 "metadata": {
  "kernelspec": {
   "display_name": "Python 3",
   "language": "python",
   "name": "python3"
  },
  "language_info": {
   "codemirror_mode": {
    "name": "ipython",
    "version": 3
   },
   "file_extension": ".py",
   "mimetype": "text/x-python",
   "name": "python",
   "nbconvert_exporter": "python",
   "pygments_lexer": "ipython3",
   "version": "3.11.4"
  }
 },
 "nbformat": 4,
 "nbformat_minor": 2
}
