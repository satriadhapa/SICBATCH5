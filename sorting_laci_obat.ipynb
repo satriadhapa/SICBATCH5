{
 "cells": [
  {
   "cell_type": "code",
   "execution_count": 1,
   "metadata": {},
   "outputs": [
    {
     "name": "stdout",
     "output_type": "stream",
     "text": [
      "Obat yang harus dikonsumsi Tuk Dalang adalah: Tolak Angin\n"
     ]
    }
   ],
   "source": [
    "def sorting_laci_obat(laci_obat_tercecer):\n",
    "    # Mengurutkan laci obat menggunakan algoritma pengurutan (contoh: pengurutan seleksi)\n",
    "    for i in range(len(laci_obat_tercecer)):\n",
    "        min_idx = i\n",
    "        for j in range(i+1, len(laci_obat_tercecer)):\n",
    "            if laci_obat_tercecer[j] < laci_obat_tercecer[min_idx]:\n",
    "                min_idx = j\n",
    "        laci_obat_tercecer[i], laci_obat_tercecer[min_idx] = laci_obat_tercecer[min_idx], laci_obat_tercecer[i]\n",
    "    \n",
    "    return laci_obat_tercecer\n",
    "\n",
    "# Daftar obat yang tercecer\n",
    "laci_obat_tercecer = ['VitPlus', 'Cucubima', 'Paracetamol', 'Amoxilin', 'Redoxon', 'Tolak Angin', 'Gliserol', 'Dulcolax', 'Ibuprofen']\n",
    "\n",
    "# Mengurutkan kembali laci obat\n",
    "laci_obat_terurut = sorting_laci_obat(laci_obat_tercecer)\n",
    "\n",
    "# Mengambil obat yang berada di laci nomor 8 (indeks 7 karena indeks dimulai dari 0)\n",
    "obat_terpilih = laci_obat_terurut[7]\n",
    "\n",
    "# Menampilkan obat yang harus dikonsumsi Tuk Dalang\n",
    "print(\"Obat yang harus dikonsumsi Tuk Dalang adalah:\", obat_terpilih)\n"
   ]
  },
  {
   "cell_type": "code",
   "execution_count": null,
   "metadata": {},
   "outputs": [],
   "source": []
  }
 ],
 "metadata": {
  "kernelspec": {
   "display_name": "Python 3",
   "language": "python",
   "name": "python3"
  },
  "language_info": {
   "codemirror_mode": {
    "name": "ipython",
    "version": 3
   },
   "file_extension": ".py",
   "mimetype": "text/x-python",
   "name": "python",
   "nbconvert_exporter": "python",
   "pygments_lexer": "ipython3",
   "version": "3.11.4"
  }
 },
 "nbformat": 4,
 "nbformat_minor": 2
}
