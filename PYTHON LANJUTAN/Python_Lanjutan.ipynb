{
 "cells": [
  {
   "cell_type": "code",
   "execution_count": 1,
   "metadata": {},
   "outputs": [
    {
     "name": "stdout",
     "output_type": "stream",
     "text": [
      "Hasil akar-akarnya adalah 2.0 atau -4.0\n"
     ]
    }
   ],
   "source": [
    "def get_root(a,b,c):\n",
    "  r1 = (-b + (b ** 2 - 4 * a * c) ** 0.5) / (2 * a)\n",
    "  r2 = (-b - (b ** 2 - 4 * a * c) ** 0.5) / (2 * a)\n",
    "  return r1,r2\n",
    "\n",
    "result1, result2 = get_root(a=1,c=-8,b=2)\n",
    "print('Hasil akar-akarnya adalah', result1, 'atau', result2)"
   ]
  },
  {
   "cell_type": "code",
   "execution_count": 2,
   "metadata": {},
   "outputs": [
    {
     "name": "stdout",
     "output_type": "stream",
     "text": [
      "4 3\n"
     ]
    }
   ],
   "source": [
    "def test(a = 2, b = 3):\n",
    "    print(a,b)\n",
    "\n",
    "test(4)"
   ]
  },
  {
   "cell_type": "code",
   "execution_count": 3,
   "metadata": {},
   "outputs": [
    {
     "name": "stdout",
     "output_type": "stream",
     "text": [
      "(-1, 'Not OK!')\n"
     ]
    }
   ],
   "source": [
    "def test123(a,b):\n",
    "    if a > b:\n",
    "        return a + b, \"OK!\"\n",
    "    else:\n",
    "        return a - b, \"Not OK!\"\n",
    "\n",
    "print(test123(1,2))"
   ]
  },
  {
   "cell_type": "code",
   "execution_count": 4,
   "metadata": {},
   "outputs": [
    {
     "name": "stdout",
     "output_type": "stream",
     "text": [
      "Not a palindrome\n"
     ]
    }
   ],
   "source": [
    "def is_palindrome(word):\n",
    "    if len(word) <= 1:\n",
    "        return True\n",
    "    if word[0] != word[-1]:\n",
    "        return False\n",
    "    return is_palindrome(word[1:-1])\n",
    "\n",
    "str1 = \"Hello\"\n",
    "if is_palindrome(str1):\n",
    "    print(\"Palindrome\")\n",
    "else:\n",
    "    print(\"Not a palindrome\")"
   ]
  },
  {
   "cell_type": "code",
   "execution_count": 5,
   "metadata": {},
   "outputs": [
    {
     "data": {
      "text/plain": [
       "51"
      ]
     },
     "execution_count": 5,
     "metadata": {},
     "output_type": "execute_result"
    }
   ],
   "source": [
    "def add(x,y):\n",
    "    return x + 1 + y\n",
    "add(20, 30)"
   ]
  },
  {
   "cell_type": "code",
   "execution_count": 6,
   "metadata": {},
   "outputs": [
    {
     "name": "stdout",
     "output_type": "stream",
     "text": [
      "total:  242\n"
     ]
    }
   ],
   "source": [
    "add = lambda x, y : x + 2 +y*2\n",
    "print(\"total: \", add(200, 20))"
   ]
  },
  {
   "cell_type": "code",
   "execution_count": 7,
   "metadata": {},
   "outputs": [
    {
     "name": "stdout",
     "output_type": "stream",
     "text": [
      "Umur yang dewasa: \n",
      "34 39 20 54 "
     ]
    }
   ],
   "source": [
    "list_umur = [34,39,20,18,13,54]\n",
    "print(\"Umur yang dewasa: \")\n",
    "for a in filter(lambda x: x >= 19, list_umur): # filter umur menggunakan fungsi filter\n",
    "    print(a,end = ' ')"
   ]
  },
  {
   "cell_type": "code",
   "execution_count": 8,
   "metadata": {},
   "outputs": [
    {
     "name": "stdout",
     "output_type": "stream",
     "text": [
      "10 30 20 "
     ]
    }
   ],
   "source": [
    "list_umur = [1,10,30,20,15]\n",
    "for a in filter(lambda x: x %2  == 0, list_umur):\n",
    "    print(a,end = ' ')"
   ]
  },
  {
   "cell_type": "code",
   "execution_count": 9,
   "metadata": {},
   "outputs": [
    {
     "name": "stdout",
     "output_type": "stream",
     "text": [
      "[1, 4, 9, 16, 25, 36, 49]\n"
     ]
    }
   ],
   "source": [
    "a = [1,2,3,4,5,6,7]\n",
    "\n",
    "a_kuadrat = list(map(lambda x: x **2, a))\n",
    "print(a_kuadrat)"
   ]
  },
  {
   "cell_type": "code",
   "execution_count": 10,
   "metadata": {},
   "outputs": [
    {
     "name": "stdout",
     "output_type": "stream",
     "text": [
      "[4, 8, 12]\n"
     ]
    }
   ],
   "source": [
    "a = [2,4,6]\n",
    "\n",
    "b= list(map(lambda x: x *2, a))\n",
    "print(b)"
   ]
  },
  {
   "cell_type": "markdown",
   "metadata": {},
   "source": [
    "Lambda - Reduce\n",
    "reduce() termasuk merupakan bagian dari module functools. reduce() mengembalikan sebuah nilai dengan menjalankan operasi dengan fungsi yang diberikan pada item dari sebuah iterables object (list,tuple,range). Hampir sama dengan map() namun reduce() mengembalikan nilai tunggal atau single value"
   ]
  },
  {
   "cell_type": "code",
   "execution_count": 11,
   "metadata": {},
   "outputs": [
    {
     "name": "stdout",
     "output_type": "stream",
     "text": [
      "10\n"
     ]
    }
   ],
   "source": [
    "from functools import reduce\n",
    "# Returns the sum of two elements\n",
    "def sumTwo(a,b):\n",
    "    return a+b\n",
    "\n",
    "result = reduce(sumTwo, [1, 2, 3, 4])\n",
    "print(result)"
   ]
  },
  {
   "cell_type": "code",
   "execution_count": 12,
   "metadata": {},
   "outputs": [
    {
     "name": "stdout",
     "output_type": "stream",
     "text": [
      "10\n"
     ]
    }
   ],
   "source": [
    "from functools import reduce # mengimport fungsi reduce\n",
    "\n",
    "a = [1,2,3,4]\n",
    "n = reduce(lambda x,y : x + y, a)\n",
    "print(n)"
   ]
  },
  {
   "cell_type": "code",
   "execution_count": 13,
   "metadata": {},
   "outputs": [
    {
     "name": "stdout",
     "output_type": "stream",
     "text": [
      "12\n"
     ]
    }
   ],
   "source": [
    "from functools import reduce \n",
    "\n",
    "a = [1,2,3]\n",
    "n = reduce(lambda x,y : x + (x*y), a)\n",
    "print(n)"
   ]
  },
  {
   "cell_type": "code",
   "execution_count": 14,
   "metadata": {},
   "outputs": [
    {
     "name": "stdout",
     "output_type": "stream",
     "text": [
      "<i>hello<i>\n",
      "<b>hello<b>\n"
     ]
    }
   ],
   "source": [
    "def decorate(style = 'italic'):\n",
    "  def italic(s):\n",
    "    return '<i>' + s + '<i>'\n",
    "  def bold(s):\n",
    "    return '<b>' + s + '<b>'\n",
    "  if style == 'italic':\n",
    "    return italic\n",
    "  else:\n",
    "    return bold\n",
    "    \n",
    "dec = decorate()\n",
    "print(dec('hello'))\n",
    "dec2 = decorate('bold')\n",
    "print(dec2('hello'))"
   ]
  },
  {
   "cell_type": "code",
   "execution_count": 15,
   "metadata": {},
   "outputs": [
    {
     "name": "stdout",
     "output_type": "stream",
     "text": [
      "hello\n"
     ]
    }
   ],
   "source": [
    "def another_func():\n",
    "  print('hello')\n",
    "  \n",
    "def outer_func():\n",
    "  return another_func()\n",
    "  \n",
    "outer_func()\n"
   ]
  },
  {
   "cell_type": "code",
   "execution_count": 16,
   "metadata": {},
   "outputs": [
    {
     "name": "stdout",
     "output_type": "stream",
     "text": [
      "counter didalam fungsi = 200\n",
      "counter diluar fungsi =  200\n"
     ]
    }
   ],
   "source": [
    "def print_counter():\n",
    "  global counter\n",
    "  counter = 200\n",
    "  print('counter didalam fungsi =',counter) # nilai counter didalam fungsi\n",
    "\n",
    "counter = 100\n",
    "print_counter()\n",
    "print('counter diluar fungsi = ',counter) # nilai counter diluar fungsi"
   ]
  },
  {
   "cell_type": "code",
   "execution_count": 17,
   "metadata": {},
   "outputs": [
    {
     "name": "stdout",
     "output_type": "stream",
     "text": [
      "100\n"
     ]
    }
   ],
   "source": [
    "def print_counter():\n",
    "  # tambahkan sesuatu disini #\n",
    "  counter = 200\n",
    "\n",
    "counter = 100\n",
    "print_counter()\n",
    "print(counter)"
   ]
  },
  {
   "cell_type": "code",
   "execution_count": 19,
   "metadata": {},
   "outputs": [
    {
     "name": "stdout",
     "output_type": "stream",
     "text": [
      "200\n"
     ]
    }
   ],
   "source": [
    "def print_counter():\n",
    "  # tambahkan sesuatu disini #\n",
    "  global counter\n",
    "  counter = 200\n",
    "\n",
    "counter = 100\n",
    "print_counter()\n",
    "print(counter)"
   ]
  },
  {
   "cell_type": "code",
   "execution_count": 20,
   "metadata": {},
   "outputs": [
    {
     "name": "stdout",
     "output_type": "stream",
     "text": [
      "2 4 6\n"
     ]
    }
   ],
   "source": [
    "def closure_calc():\n",
    "  a = 2\n",
    "  def mult(x):\n",
    "    return a * x\n",
    "  return mult\n",
    "  \n",
    "c = closure_calc()\n",
    "print(c(1),c(2),c(3))"
   ]
  },
  {
   "cell_type": "code",
   "execution_count": 21,
   "metadata": {},
   "outputs": [],
   "source": [
    "a = 10\n",
    "def addition(z):\n",
    "    return a + z"
   ]
  },
  {
   "cell_type": "code",
   "execution_count": 22,
   "metadata": {},
   "outputs": [],
   "source": [
    "def fungsi_luar(x):\n",
    "    a = 10\n",
    "    def addition(z):\n",
    "        return a + z\n",
    "    return addition(x)"
   ]
  },
  {
   "cell_type": "code",
   "execution_count": 23,
   "metadata": {},
   "outputs": [
    {
     "name": "stdout",
     "output_type": "stream",
     "text": [
      "<__main__.Cat object at 0x0000016768757390>\n"
     ]
    }
   ],
   "source": [
    "class Cat: # membuat class Cat\n",
    "  pass # menggunakan pass statement \n",
    "\n",
    "nobi = Cat() # membuat sebuah instance dari Cat\n",
    "print(nobi)"
   ]
  },
  {
   "cell_type": "code",
   "execution_count": 24,
   "metadata": {},
   "outputs": [
    {
     "name": "stdout",
     "output_type": "stream",
     "text": [
      "nobi\n",
      "black\n",
      "nero\n",
      "white\n"
     ]
    }
   ],
   "source": [
    "class Cat:\n",
    "  def __init__(self,name,color): # menginisialisasi instance dengan constructor\n",
    "    self.name = name\n",
    "    self.color = color\n",
    "\n",
    "nobi = Cat('nobi','black') # membuat instance dari kelas Cat dengan nama nabi dan warna hitam\n",
    "nero = Cat('nero','white')\n",
    "\n",
    "print(nobi.name)\n",
    "print(nobi.color)\n",
    "print(nero.name)\n",
    "print(nero.color)"
   ]
  },
  {
   "cell_type": "markdown",
   "metadata": {},
   "source": [
    "Instance Variables\n",
    "Apa yang dimaksud dengan instance variables?\n",
    "\n",
    "Jika nilai dari variabel bervariasi dari objek ke objek, maka variabel tersebut disebut instance variables. Instance variables tidak dibagikan oleh objek. Setiap objek memiliki salinan sendiri dari instance attribute. Artinya, untuk setiap objek suatu kelas, memiliki nilai instance variables yang berbeda."
   ]
  },
  {
   "cell_type": "code",
   "execution_count": 25,
   "metadata": {},
   "outputs": [
    {
     "name": "stdout",
     "output_type": "stream",
     "text": [
      "Area dari c1: 50.24\n",
      "Area dari c2: 113.076\n",
      "Area dari c3: 113.09400000000001\n"
     ]
    }
   ],
   "source": [
    "class Circle:\n",
    "  def __init__(self,name,radius,PI):\n",
    "    self.__name = name # instance variable\n",
    "    self.__radius = radius # instance variable\n",
    "    self.__PI = PI\n",
    "  \n",
    "  # menghitung area sebuah lingkaran dengan pi * r kuadrat\n",
    "  def area(self):\n",
    "    return self.__PI * self.__radius ** 2\n",
    "\n",
    "c1 = Circle(\"C1\",4,3.14)\n",
    "print(\"Area dari c1:\",c1.area())\n",
    "c2 = Circle(\"C2\",6,3.141)\n",
    "print(\"Area dari c2:\",c2.area())\n",
    "c3 = Circle(\"C3\",6,3.1415)\n",
    "print(\"Area dari c3:\",c3.area())"
   ]
  },
  {
   "cell_type": "code",
   "execution_count": 26,
   "metadata": {},
   "outputs": [
    {
     "name": "stdout",
     "output_type": "stream",
     "text": [
      "Area dari c1: 50.264\n",
      "Area dari c2: 113.09400000000001\n",
      "Area dari c3: 78.53750000000001\n"
     ]
    }
   ],
   "source": [
    "class Circle:\n",
    "  PI = 3.1415\n",
    "  def __init__(self,name,radius):\n",
    "    self.__name = name # instance variable\n",
    "    self.__radius = radius # instance variable\n",
    "  \n",
    "  # menghitung area sebuah lingkaran dengan pi * r kuadrat\n",
    "  # method dari class Circle dan instance akan mengambil value PI dari class variable melalui Circle.PI\n",
    "  def area(self):\n",
    "    return Circle.PI * self.__radius ** 2\n",
    "\n",
    "c1 = Circle(\"C1\",4)\n",
    "print(\"Area dari c1:\",c1.area())\n",
    "c2 = Circle(\"C2\",6,)\n",
    "print(\"Area dari c2:\",c2.area())\n",
    "c3 = Circle(\"C3\",5)\n",
    "print(\"Area dari c3:\",c3.area())"
   ]
  },
  {
   "cell_type": "code",
   "execution_count": 27,
   "metadata": {},
   "outputs": [
    {
     "name": "stdout",
     "output_type": "stream",
     "text": [
      "nama dari person test\n",
      "nama dari employee test\n",
      "gaji dari employee 1000\n"
     ]
    },
    {
     "ename": "AttributeError",
     "evalue": "'Person' object has no attribute 'gaji'",
     "output_type": "error",
     "traceback": [
      "\u001b[1;31m---------------------------------------------------------------------------\u001b[0m",
      "\u001b[1;31mAttributeError\u001b[0m                            Traceback (most recent call last)",
      "Cell \u001b[1;32mIn[27], line 13\u001b[0m\n\u001b[0;32m     11\u001b[0m \u001b[38;5;28mprint\u001b[39m(\u001b[38;5;124m'\u001b[39m\u001b[38;5;124mnama dari employee\u001b[39m\u001b[38;5;124m'\u001b[39m, employee1\u001b[38;5;241m.\u001b[39mnama)\n\u001b[0;32m     12\u001b[0m \u001b[38;5;28mprint\u001b[39m(\u001b[38;5;124m'\u001b[39m\u001b[38;5;124mgaji dari employee\u001b[39m\u001b[38;5;124m'\u001b[39m,employee1\u001b[38;5;241m.\u001b[39mgaji)\n\u001b[1;32m---> 13\u001b[0m \u001b[38;5;28mprint\u001b[39m(\u001b[38;5;124m'\u001b[39m\u001b[38;5;124mgaji dari person\u001b[39m\u001b[38;5;124m'\u001b[39m,\u001b[43mperson1\u001b[49m\u001b[38;5;241;43m.\u001b[39;49m\u001b[43mgaji\u001b[49m)\n",
      "\u001b[1;31mAttributeError\u001b[0m: 'Person' object has no attribute 'gaji'"
     ]
    }
   ],
   "source": [
    "class Person: # Parent class\n",
    "  nama = 'test'\n",
    "\n",
    "class Employee(Person): # child class\n",
    "  gaji = 1000\n",
    "  \n",
    "person1 = Person()\n",
    "employee1 = Employee()\n",
    "\n",
    "print('nama dari person', person1.nama)\n",
    "print('nama dari employee', employee1.nama)\n",
    "print('gaji dari employee',employee1.gaji)\n",
    "print('gaji dari person',person1.gaji)"
   ]
  },
  {
   "cell_type": "markdown",
   "metadata": {},
   "source": [
    "Polymorphism berarti memiliki bentuk yang berbeda-beda. Dalam dunia pemrograman, Polymorphism mengacu pada kemampuan fungsi dengan nama yang sama untuk membawa fungsionalitas yang berbeda secara bersamaan. Ini menciptakan struktur yang dapat menggunakan banyak bentuk objek.\n",
    "\n",
    "Pada child class, selain mewarisi semua sifat dari parent-nya, child class juga bisa memiliki kemampuan yang berbeda dengan parent-nya. Dengan kata lain, child class memiliki metode yang sama dengan parent-nya namun bisa jadi berbeda output dengan sibling atau parent-nya, hal ini dikenal dengan sebutan polymorphism."
   ]
  },
  {
   "cell_type": "code",
   "execution_count": 28,
   "metadata": {},
   "outputs": [
    {
     "name": "stdout",
     "output_type": "stream",
     "text": [
      "There are different types of birds\n",
      "Most of the birds can fly but some cannot\n",
      "There are different types of birds\n",
      "Parrots can fly\n",
      "There are different types of birds\n",
      "Penguins do not fly\n"
     ]
    }
   ],
   "source": [
    "class Bird:\n",
    "     def intro(self):\n",
    "       print(\"There are different types of birds\")\n",
    " \n",
    "     def flight(self):\n",
    "       print(\"Most of the birds can fly but some cannot\")\n",
    " \n",
    "class parrot(Bird):\n",
    "     def flight(self):\n",
    "       print(\"Parrots can fly\")\n",
    " \n",
    "class penguin(Bird):\n",
    "     def flight(self):\n",
    "       print(\"Penguins do not fly\")\n",
    " \n",
    "obj_bird = Bird()\n",
    "obj_parr = parrot()\n",
    "obj_peng = penguin()\n",
    " \n",
    "obj_bird.intro()\n",
    "obj_bird.flight()\n",
    " \n",
    "obj_parr.intro()\n",
    "obj_parr.flight()\n",
    " \n",
    "obj_peng.intro()\n",
    "obj_peng.flight()\n"
   ]
  },
  {
   "cell_type": "code",
   "execution_count": 29,
   "metadata": {},
   "outputs": [
    {
     "name": "stdout",
     "output_type": "stream",
     "text": [
      "Harapan hidup kucing adalah 10 tahun.\n",
      "Warna tubuh kucing pada umumnya adalah kuning\n",
      "Harapan hidup anjing adalah 15 tahun.\n",
      "Warna tubuh anjing pada umumnya adalah hitam\n"
     ]
    }
   ],
   "source": [
    "class Hewan():\n",
    "    def suara(self):\n",
    "      print(\"Suara hewan\")\n",
    "\n",
    "class Kucing(): \n",
    "    def suara(self):\n",
    "       print(\"Meow\")\n",
    "\n",
    "    def harapan_hidup(self): \n",
    "      print(\"Harapan hidup kucing adalah 10 tahun.\") \n",
    "   \n",
    "    def warna_tubuh(self): \n",
    "      print(\"Warna tubuh kucing pada umumnya adalah kuning\") \n",
    "   \n",
    "class Anjing(): \n",
    "    def suara(self):\n",
    "      print(\"Woof\")\n",
    "\n",
    "    def harapan_hidup(self): \n",
    "      print(\"Harapan hidup anjing adalah 15 tahun.\") \n",
    "   \n",
    "    def warna_tubuh(self): \n",
    "      print(\"Warna tubuh anjing pada umumnya adalah hitam\") \n",
    "   \n",
    "obj1 = Kucing() \n",
    "obj2 = Anjing() \n",
    "for type in (obj1, obj2): # creating a loop to iterate through the obj1, obj2\n",
    "    type.harapan_hidup() \n",
    "    type.warna_tubuh()"
   ]
  },
  {
   "cell_type": "code",
   "execution_count": 30,
   "metadata": {},
   "outputs": [
    {
     "name": "stdout",
     "output_type": "stream",
     "text": [
      "Meow\n",
      "Woof\n"
     ]
    }
   ],
   "source": [
    "class Kucing(): \n",
    "    def suara(self):\n",
    "       print(\"Meow\")\n",
    "   \n",
    "    def warna_tubuh(self): \n",
    "      print(\"Warna tubuh kucing pada umumnya adalah kuning\") \n",
    "   \n",
    "class Anjing(): \n",
    "    def suara(self):\n",
    "      print(\"Woof\")\n",
    "\n",
    "    def harapan_hidup(self): \n",
    "      print(\"Harapan hidup anjing adalah 15 tahun.\") \n",
    "   \n",
    "   \n",
    "obj1 = Kucing() \n",
    "obj2 = Anjing() \n",
    "for type in (obj1, obj2):\n",
    "    type.suara() "
   ]
  },
  {
   "cell_type": "markdown",
   "metadata": {},
   "source": [
    "Class - Encapsulation\n",
    "Saat bekerja dengan class dan menangani data yang sensitif, menyediakan akses global ke semua attribute yang digunakan dalam program bukanlah pilihan yang baik. Encapsulation menawarkan cara bagi kita untuk **mengakses attribute **yang diperlukan tanpa memberikan program akses penuh ke salah satu attribute tersebut.\n",
    "\n",
    "Memperbarui, mengubah, atau menghapus data dari attribute dapat dilakukan melalui penggunaan metode yang ditentukan secara khusus untuk tujuan tersebut. Manfaat menggunakan pendekatan pemrograman ini adalah peningkatan kontrol atas data input dan keamanan yang lebih baik."
   ]
  },
  {
   "cell_type": "code",
   "execution_count": 31,
   "metadata": {},
   "outputs": [
    {
     "name": "stdout",
     "output_type": "stream",
     "text": [
      "Budi\n",
      "30\n",
      "Budi\n",
      "30\n"
     ]
    }
   ],
   "source": [
    "class Orang:\n",
    "    def __init__(self, name, age=0):\n",
    "        self.name = name\n",
    "        self._age = age\n",
    " \n",
    "    def tampilkan(self):\n",
    "        print(self.name)\n",
    "        print(self._age)\n",
    " \n",
    "orang_obj = Orang('Budi', 30)\n",
    "\n",
    "#mengakses melalui metode\n",
    "orang_obj.tampilkan()\n",
    "\n",
    "#mengakses langsung variable\n",
    "print(orang_obj.name)\n",
    "print(orang_obj._age)"
   ]
  },
  {
   "cell_type": "markdown",
   "metadata": {},
   "source": [
    "Double Underscore\n",
    "Jika kita ingin menjadikan anggota class yaitu method dan attribute menjadi private, maka kita harus mengawalinya dengan garis bawah ganda atau double underscore __."
   ]
  },
  {
   "cell_type": "code",
   "execution_count": 33,
   "metadata": {},
   "outputs": [
    {
     "name": "stdout",
     "output_type": "stream",
     "text": [
      "Budi\n",
      "30\n",
      "Budi\n"
     ]
    },
    {
     "ename": "AttributeError",
     "evalue": "'Orang' object has no attribute '__age'",
     "output_type": "error",
     "traceback": [
      "\u001b[1;31m---------------------------------------------------------------------------\u001b[0m",
      "\u001b[1;31mAttributeError\u001b[0m                            Traceback (most recent call last)",
      "Cell \u001b[1;32mIn[33], line 17\u001b[0m\n\u001b[0;32m     15\u001b[0m \u001b[38;5;66;03m#mengakses langsung variable\u001b[39;00m\n\u001b[0;32m     16\u001b[0m \u001b[38;5;28mprint\u001b[39m(orang_obj\u001b[38;5;241m.\u001b[39mname)\n\u001b[1;32m---> 17\u001b[0m \u001b[38;5;28mprint\u001b[39m(\u001b[43morang_obj\u001b[49m\u001b[38;5;241;43m.\u001b[39;49m\u001b[43m__age\u001b[49m)\n",
      "\u001b[1;31mAttributeError\u001b[0m: 'Orang' object has no attribute '__age'"
     ]
    }
   ],
   "source": [
    "class Orang:\n",
    "    def __init__(self, name, age=0):\n",
    "        self.name = name\n",
    "        self.__age = age\n",
    " \n",
    "    def tampilkan(self):\n",
    "        print(self.name)\n",
    "        print(self.__age)\n",
    " \n",
    "orang_obj = Orang('Budi', 30)\n",
    "\n",
    "#mengakses melalui metode\n",
    "orang_obj.tampilkan()\n",
    "\n",
    "#mengakses langsung variable\n",
    "print(orang_obj.name)\n",
    "print(orang_obj.__age)"
   ]
  },
  {
   "cell_type": "code",
   "execution_count": 34,
   "metadata": {},
   "outputs": [
    {
     "name": "stdout",
     "output_type": "stream",
     "text": [
      "Budi\n",
      "30\n",
      "----------\n",
      "Budi\n",
      "30\n",
      "----------\n",
      "Budi\n",
      "27\n",
      "----------\n"
     ]
    }
   ],
   "source": [
    "class Orang:\n",
    "  def __init__(self, name, age=0):\n",
    "    self.name = name\n",
    "    self.__age = age\n",
    "\n",
    "  def setAge(self, age):\n",
    "    self.__age = age\n",
    " \n",
    "  def tampilkan(self):\n",
    "    print(self.name)\n",
    "    print(self.__age)\n",
    "    print(\"----------\")\n",
    " \n",
    "orang_obj = Orang('Budi', 30)\n",
    "\n",
    "#mengakses melalui metode\n",
    "orang_obj.tampilkan()\n",
    "\n",
    "#mengubah data tanpa setter tidak memungkinkan\n",
    "orang_obj.__age = 50\n",
    "orang_obj.tampilkan()\n",
    "\n",
    "#mengubah data harus memalui setter\n",
    "orang_obj.setAge(27)\n",
    "orang_obj.tampilkan()"
   ]
  },
  {
   "cell_type": "code",
   "execution_count": 35,
   "metadata": {},
   "outputs": [
    {
     "name": "stdout",
     "output_type": "stream",
     "text": [
      "0\n"
     ]
    }
   ],
   "source": [
    "class Orang:\n",
    "  def __init__(self, name, age=0):\n",
    "    self.name = name\n",
    "    self._age = age\n",
    "\n",
    "org_obj = Orang('Budi')\n",
    "print(org_obj._age)"
   ]
  },
  {
   "cell_type": "markdown",
   "metadata": {},
   "source": [
    "Class - Abstraction\n",
    "Abstraction adalah salah satu konsep kunci dari bahasa pemrograman berorientasi objek (OOP). Tujuan utamanya adalah untuk menangani kompleksitas dengan menyembunyikan detail yang tidak perlu dari pengguna. Abstraction memungkinkan pengguna untuk menerapkan logika yang lebih kompleks di atas abstraksi yang disediakan tanpa memahami atau bahkan memikirkan semua kompleksitas yang tersembunyi.\n",
    "\n",
    "Misalkan Kamu memesan tiket film dari aplikasi online menggunakan internet banking atau proses lainnya. Kamu tidak tahu prosedur bagaimana pin dihasilkan atau bagaimana verifikasi dilakukan. Ini disebut abstraksi dari aspek pemrograman, pada dasarnya berarti Kamu hanya menampilkan detail implementasi dari proses tertentu dan menyembunyikan detail dari pengguna. Ini digunakan untuk menyederhanakan masalah yang kompleks dengan memodelkan kelas yang sesuai dengan masalah."
   ]
  },
  {
   "cell_type": "code",
   "execution_count": 36,
   "metadata": {},
   "outputs": [],
   "source": [
    "from abc import ABC, abstractmethod\n",
    "class abs_class(ABC):\n",
    "    \"\"\" normal method \"\"\"\n",
    "    def normal_methd(self):\n",
    "        pass\n",
    "        #normal_methd definition\n",
    "    \"\"\" abstract method \"\"\"\n",
    "    @abstractmethod\n",
    "    def abstract_methd(self):\n",
    "        pass"
   ]
  },
  {
   "cell_type": "code",
   "execution_count": 37,
   "metadata": {},
   "outputs": [
    {
     "name": "stdout",
     "output_type": "stream",
     "text": [
      "Harga mobil ini 2 Milliar Rupiah\n",
      "Harga mobil ini 10 Milliar Rupiah\n"
     ]
    }
   ],
   "source": [
    "from abc import ABC, abstractmethod \n",
    "\n",
    "class MobilMewah(ABC):  \n",
    "    @abstractmethod \n",
    "    def harga(self):   \n",
    "        pass  \n",
    "\n",
    "class Tesla(MobilMewah):   \n",
    "    def harga(self):   \n",
    "        print(\"Harga mobil ini 2 Milliar Rupiah\")   \n",
    "class Lexus(MobilMewah):   \n",
    "    def harga(self):   \n",
    "        print(\"Harga mobil ini 3 Milliar Rupiah\")  \n",
    "class Ferrari(MobilMewah):   \n",
    "    def harga(self):   \n",
    "        print(\"Harga mobil ini 10 Milliar Rupiah\")  \n",
    "\n",
    "tesla_obj = Tesla()\n",
    "tesla_obj.harga()\n",
    "\n",
    "ferrari_obj = Ferrari()\n",
    "ferrari_obj.harga()"
   ]
  },
  {
   "cell_type": "markdown",
   "metadata": {},
   "source": [
    "Secara umum, concurrency dianggap sebagai konsep yang lebih besar daripada parallelism. Sederhananya, kedua konsep tersebut melakukan banyak hal pada saat yang bersamaan. Dalam praktiknya, ada sudut pandang tertentu pada perbedaan antara kedua ide tersebut, terutama dalam Python.\n",
    "\n",
    "Concurrency kemudian sering dipahami sebagai \"mengelola\" banyak pekerjaan secara bersamaan. Pada kenyataannya, pekerjaan-pekerjaan itu tidak benar-benar dijalankan pada saat yang bersamaan. Mereka bergantian secara Parallelism, berarti mengeksekusi beberapa pekerjaan secara bersamaan atau secara paralel. Parallelism memungkinkan untuk memanfaatkan banyak core pada satu mesin.\n",
    "\n",
    "Untuk menerapkan kedua konsep tersebut dalam Python, kita bisa menggunakan library:\n",
    "\n",
    "multiprocess untuk parallelism dan,\n",
    "threading untuk concurrency"
   ]
  },
  {
   "cell_type": "markdown",
   "metadata": {},
   "source": [
    "Threading\n",
    "Sebelum kita masuk ke dalam program Python menggunakan library threading, kita perlu mengerti juga apa sebenarnya threading itu. Thread adalah entitas dalam proses yang dapat dijadwalkan untuk dieksekusi. Thread juga adalah unit pemrosesan terkecil yang dapat dilakukan dalam Sistem Operasi (Operating System).\n",
    "\n",
    "Dengan kata lain, sebuah thread adalah urutan instruksi semacam itu di dalam program yang dapat dieksekusi secara independen dari kode lain. Untuk kesederhanaan, Anda dapat mengasumsikan bahwa sebuah thread adalah bagian dari suatu proses.\n",
    "\n",
    "Multithreading didefinisikan sebagai kemampuan prosesor untuk mengeksekusi beberapa thread secara bersamaan."
   ]
  },
  {
   "cell_type": "code",
   "execution_count": 38,
   "metadata": {},
   "outputs": [
    {
     "name": "stdout",
     "output_type": "stream",
     "text": [
      "Hello from dynamic-sleep interval, pengulangan ke-0\n",
      "Hello from static-sleep interval, pengulangan ke-0\n",
      "Hello from dynamic-sleep interval, pengulangan ke-1\n",
      "Hello from dynamic-sleep interval, pengulangan ke-2\n",
      "Hello from static-sleep interval, pengulangan ke-1\n",
      "Hello from dynamic-sleep interval, pengulangan ke-3\n",
      "Hello from static-sleep interval, pengulangan ke-2\n",
      "Hello from dynamic-sleep interval, pengulangan ke-4\n",
      "Hello from static-sleep interval, pengulangan ke-3\n",
      "Hello from static-sleep interval, pengulangan ke-4\n",
      "Selesai!\n"
     ]
    }
   ],
   "source": [
    "import threading # import library threading\n",
    "import time # import library time\n",
    "\n",
    "def print_with_dynamic_sleep(total_iteration):\n",
    "    \"\"\"\n",
    "    fungsi berikut akan melakukan print command\n",
    "    dengan interval yang berbeda-beda\n",
    "    \"\"\"\n",
    "    for x in range(total_iteration):\n",
    "        print(\"Hello from dynamic-sleep interval, pengulangan ke-{}\".format(x))\n",
    "        time.sleep(x) # fungsi akan berhenti selama x second, akan berubah2 secara dinamis\n",
    "\n",
    "def print_with_static_sleep(total_iteration):\n",
    "    \"\"\"\n",
    "\tfungsi berikut akan melakukan print command\n",
    "\tdengan interval yang statis/sama\n",
    "    \"\"\"\n",
    "    for x in range(total_iteration):\n",
    "        print(\"Hello from static-sleep interval, pengulangan ke-{}\".format(x))\n",
    "        time.sleep(2) # fungsi akan berhenti selama 2 second\n",
    "\n",
    "if __name__ == \"__main__\":\n",
    "\t# creating thread\n",
    "\tt1 = threading.Thread(target=print_with_dynamic_sleep, args=(5,))\n",
    "\tt2 = threading.Thread(target=print_with_static_sleep, args=(5,))\n",
    "\n",
    "\t# memulai thread pertama\n",
    "\tt1.start()\n",
    "\t# memulai thread kedua\n",
    "\tt2.start()\n",
    "\n",
    "\t# tunggu sampai thread 1 selesai dilaksanakan\n",
    "\tt1.join()\n",
    "\t# tunggu sampai thread 2 selesai dilaksanakan\n",
    "\tt2.join()\n",
    "\n",
    "\t# both threads completely executed\n",
    "\tprint(\"Selesai!\")"
   ]
  },
  {
   "cell_type": "markdown",
   "metadata": {},
   "source": [
    "Multiprocessing\n",
    "Apa itu sebenarnya multiprocessing? Multiprocessing mengacu pada kemampuan sistem untuk mendukung lebih dari satu prosesor pada saat yang bersamaan. Aplikasi dalam sistem multiprocessing dipecah menjadi rutinitas yang lebih kecil yang berjalan secara independen. Sistem operasi mengalokasikan thread ini ke prosesor untuk meningkatkan kinerja sistem.\n",
    "\n",
    "Multiprocessing sangat cocok untuk program atau sistem yang membutuhkan komputasi CPU yang tinggi, karena bisa memaksimalkan jumlah CPU yang ada didalam komputer tersebut. Namun Ada beberapa hal yang perlu diperhatikan dalam process multiprocessing.\n",
    "\n",
    "Pertama, kita harus dapat menentukan apakah beberapa data mungkin benar-benar perlu diakses oleh semua proses, karena memori antar proses tidak dibagikan.\n",
    "Terakhir, jika komputasi dalam program kita sebenarnya tidak terlalu intensif, multiprocessing mungkin tidak mempercepat secara signifikan karena overhead process untuk menjalankan interpreters."
   ]
  },
  {
   "cell_type": "code",
   "execution_count": 39,
   "metadata": {},
   "outputs": [
    {
     "name": "stdout",
     "output_type": "stream",
     "text": [
      "Selesai!\n"
     ]
    }
   ],
   "source": [
    "import multiprocessing # import library multiprocessing\n",
    "import time # import library time\n",
    "\n",
    "def print_with_dynamic_sleep(total_iteration):\n",
    "    \"\"\"\n",
    "    fungsi berikut akan melakukan print command\n",
    "    dengan interval yang berbeda-beda\n",
    "    \"\"\"\n",
    "    for x in range(total_iteration):\n",
    "        print(\"Hello from dynamic-sleep interval, pengulangan ke-{}\".format(x))\n",
    "        time.sleep(x) # fungsi akan berhenti selama x second, akan berubah2 secara dinamis\n",
    "\n",
    "def print_with_static_sleep(total_iteration):\n",
    "    \"\"\"\n",
    "\tfungsi berikut akan melakukan print command\n",
    "\tdengan interval yang statis/sama\n",
    "    \"\"\"\n",
    "    for x in range(total_iteration):\n",
    "        print(\"Hello from static-sleep interval, pengulangan ke-{}\".format(x))\n",
    "        time.sleep(2) # fungsi akan berhenti selama 2 second\n",
    "\n",
    "if __name__ == \"__main__\":\n",
    "\t# creating thread\n",
    "\tp1 = multiprocessing.Process(target=print_with_dynamic_sleep, args=(5,))\n",
    "\tp2 = multiprocessing.Process(target=print_with_static_sleep, args=(5,))\n",
    "\n",
    "\t# memulai process pertama\n",
    "\tp1.start()\n",
    "\t# memulai process kedua\n",
    "\tp2.start()\n",
    "\n",
    "\t# tunggu sampai process 1 selesai dilaksanakan\n",
    "\tp1.join()\n",
    "\t# tunggu sampai process 2 selesai dilaksanakan\n",
    "\tp2.join()\n",
    "\n",
    "\t# both threads completely executed\n",
    "\tprint(\"Selesai!\")"
   ]
  },
  {
   "cell_type": "code",
   "execution_count": 40,
   "metadata": {},
   "outputs": [
    {
     "ename": "TypeError",
     "evalue": "'tuple' object does not support item assignment",
     "output_type": "error",
     "traceback": [
      "\u001b[1;31m---------------------------------------------------------------------------\u001b[0m",
      "\u001b[1;31mTypeError\u001b[0m                                 Traceback (most recent call last)",
      "Cell \u001b[1;32mIn[40], line 2\u001b[0m\n\u001b[0;32m      1\u001b[0m a \u001b[38;5;241m=\u001b[39m (\u001b[38;5;241m1\u001b[39m,\u001b[38;5;241m2\u001b[39m)\n\u001b[1;32m----> 2\u001b[0m \u001b[43ma\u001b[49m\u001b[43m[\u001b[49m\u001b[38;5;241;43m0\u001b[39;49m\u001b[43m]\u001b[49m \u001b[38;5;241m+\u001b[39m\u001b[38;5;241m=\u001b[39m \u001b[38;5;241m1\u001b[39m\n",
      "\u001b[1;31mTypeError\u001b[0m: 'tuple' object does not support item assignment"
     ]
    }
   ],
   "source": [
    "a = (1,2)\n",
    "a[0] += 1"
   ]
  },
  {
   "cell_type": "code",
   "execution_count": null,
   "metadata": {},
   "outputs": [],
   "source": []
  }
 ],
 "metadata": {
  "kernelspec": {
   "display_name": "Python 3",
   "language": "python",
   "name": "python3"
  },
  "language_info": {
   "codemirror_mode": {
    "name": "ipython",
    "version": 3
   },
   "file_extension": ".py",
   "mimetype": "text/x-python",
   "name": "python",
   "nbconvert_exporter": "python",
   "pygments_lexer": "ipython3",
   "version": "3.11.4"
  }
 },
 "nbformat": 4,
 "nbformat_minor": 2
}
