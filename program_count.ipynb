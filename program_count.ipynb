{
 "cells": [
  {
   "cell_type": "code",
   "execution_count": 1,
   "metadata": {},
   "outputs": [
    {
     "name": "stdout",
     "output_type": "stream",
     "text": [
      "Nama lesti menjawab sebanyak 4 kali\n"
     ]
    }
   ],
   "source": [
    "murid_menjawab = [\"agus\", \"agus\", \"basuki\", \"bella\", \"cindy\", \"cindy\", \"daisy\", \"daisy\", \"daisy\", \"eka\", \"eka\", \"eka\", \"eko\", \"lesti\", \"lesti\", \"lesti\", \"lesti\", \"yahya\", \"yahya\", \"zahra\"]\n",
    "\n",
    "# Menghitung berapa kali nama \"lesti\" muncul dalam list murid_menjawab\n",
    "jumlah_lesti = murid_menjawab.count(\"lesti\")\n",
    "\n",
    "# Menampilkan hasil\n",
    "print(f\"Nama lesti menjawab sebanyak {jumlah_lesti} kali\")\n"
   ]
  },
  {
   "cell_type": "code",
   "execution_count": null,
   "metadata": {},
   "outputs": [],
   "source": []
  }
 ],
 "metadata": {
  "kernelspec": {
   "display_name": "Python 3",
   "language": "python",
   "name": "python3"
  },
  "language_info": {
   "codemirror_mode": {
    "name": "ipython",
    "version": 3
   },
   "file_extension": ".py",
   "mimetype": "text/x-python",
   "name": "python",
   "nbconvert_exporter": "python",
   "pygments_lexer": "ipython3",
   "version": "3.11.4"
  }
 },
 "nbformat": 4,
 "nbformat_minor": 2
}
