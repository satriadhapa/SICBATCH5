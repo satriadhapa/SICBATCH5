{
 "cells": [
  {
   "cell_type": "code",
   "execution_count": 1,
   "metadata": {},
   "outputs": [
    {
     "name": "stdout",
     "output_type": "stream",
     "text": [
      "Produk susu ibu sehat ketemu di baris 8\n"
     ]
    }
   ],
   "source": [
    "def searching_product(rak_produk, produk):\n",
    "    for i in range(len(rak_produk)):\n",
    "        if rak_produk[i] == produk:\n",
    "            return f\"Produk {produk} ketemu di baris {i+1}\"\n",
    "    return f\"Produk {produk} tidak ditemukan\"\n",
    "\n",
    "# List rak produk\n",
    "rak_produk = ['susu moli', 'minyak bumoli', 'coco tok abah', 'mie goreng enak', 'minyak bumoli', 'mi rebus enak', 'coco tok abah', 'susu ibu sehat', 'susu moli', 'mie goreng enak']\n",
    "\n",
    "# Produk yang dicari\n",
    "produk_dicari = \"susu ibu sehat\"\n",
    "\n",
    "# Melakukan pencarian produk\n",
    "hasil_pencarian = searching_product(rak_produk, produk_dicari)\n",
    "\n",
    "# Menampilkan hasil pencarian\n",
    "print(hasil_pencarian)\n"
   ]
  },
  {
   "cell_type": "code",
   "execution_count": null,
   "metadata": {},
   "outputs": [],
   "source": []
  }
 ],
 "metadata": {
  "kernelspec": {
   "display_name": "Python 3",
   "language": "python",
   "name": "python3"
  },
  "language_info": {
   "codemirror_mode": {
    "name": "ipython",
    "version": 3
   },
   "file_extension": ".py",
   "mimetype": "text/x-python",
   "name": "python",
   "nbconvert_exporter": "python",
   "pygments_lexer": "ipython3",
   "version": "3.11.4"
  }
 },
 "nbformat": 4,
 "nbformat_minor": 2
}
